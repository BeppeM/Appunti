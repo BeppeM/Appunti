{
  "nbformat": 4,
  "nbformat_minor": 0,
  "metadata": {
    "colab": {
      "name": "repressilator.ipynb",
      "provenance": [],
      "collapsed_sections": []
    },
    "kernelspec": {
      "name": "python3",
      "display_name": "Python 3"
    },
    "language_info": {
      "name": "python"
    },
    "widgets": {
      "application/vnd.jupyter.widget-state+json": {
        "8f14e1d699e249e0b2659595226d84ee": {
          "model_module": "@jupyter-widgets/controls",
          "model_name": "VBoxModel",
          "model_module_version": "1.5.0",
          "state": {
            "_view_name": "VBoxView",
            "_dom_classes": [
              "widget-interact"
            ],
            "_model_name": "VBoxModel",
            "_view_module": "@jupyter-widgets/controls",
            "_model_module_version": "1.5.0",
            "_view_count": null,
            "_view_module_version": "1.5.0",
            "box_style": "",
            "layout": "IPY_MODEL_dbe918569a43456e8a27f52dec8fb291",
            "_model_module": "@jupyter-widgets/controls",
            "children": [
              "IPY_MODEL_ffb23564ef584d22b499773ecf0ee016",
              "IPY_MODEL_baaf2f66b70e454482eadcf60d1f67e6"
            ]
          }
        },
        "dbe918569a43456e8a27f52dec8fb291": {
          "model_module": "@jupyter-widgets/base",
          "model_name": "LayoutModel",
          "model_module_version": "1.2.0",
          "state": {
            "_view_name": "LayoutView",
            "grid_template_rows": null,
            "right": null,
            "justify_content": null,
            "_view_module": "@jupyter-widgets/base",
            "overflow": null,
            "_model_module_version": "1.2.0",
            "_view_count": null,
            "flex_flow": null,
            "width": null,
            "min_width": null,
            "border": null,
            "align_items": null,
            "bottom": null,
            "_model_module": "@jupyter-widgets/base",
            "top": null,
            "grid_column": null,
            "overflow_y": null,
            "overflow_x": null,
            "grid_auto_flow": null,
            "grid_area": null,
            "grid_template_columns": null,
            "flex": null,
            "_model_name": "LayoutModel",
            "justify_items": null,
            "grid_row": null,
            "max_height": null,
            "align_content": null,
            "visibility": null,
            "align_self": null,
            "height": null,
            "min_height": null,
            "padding": null,
            "grid_auto_rows": null,
            "grid_gap": null,
            "max_width": null,
            "order": null,
            "_view_module_version": "1.2.0",
            "grid_template_areas": null,
            "object_position": null,
            "object_fit": null,
            "grid_auto_columns": null,
            "margin": null,
            "display": null,
            "left": null
          }
        },
        "ffb23564ef584d22b499773ecf0ee016": {
          "model_module": "@jupyter-widgets/controls",
          "model_name": "FloatSliderModel",
          "model_module_version": "1.5.0",
          "state": {
            "_view_name": "FloatSliderView",
            "style": "IPY_MODEL_d89ffae543794d7495fce3510208f4ae",
            "_dom_classes": [],
            "description": "n",
            "step": 0.5,
            "_model_name": "FloatSliderModel",
            "orientation": "horizontal",
            "max": 11,
            "_view_module": "@jupyter-widgets/controls",
            "_model_module_version": "1.5.0",
            "value": -1.5,
            "_view_count": null,
            "disabled": false,
            "_view_module_version": "1.5.0",
            "min": -3,
            "continuous_update": true,
            "readout_format": ".2f",
            "description_tooltip": null,
            "readout": true,
            "_model_module": "@jupyter-widgets/controls",
            "layout": "IPY_MODEL_18aab111caeb49b6877a006e2f3598c5"
          }
        },
        "baaf2f66b70e454482eadcf60d1f67e6": {
          "model_module": "@jupyter-widgets/output",
          "model_name": "OutputModel",
          "model_module_version": "1.0.0",
          "state": {
            "_view_name": "OutputView",
            "msg_id": "",
            "_dom_classes": [],
            "_model_name": "OutputModel",
            "outputs": [
              {
                "output_type": "display_data",
                "data": {
                  "image/png": "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\n",
                  "text/plain": "<Figure size 1080x360 with 2 Axes>"
                },
                "metadata": {}
              },
              {
                "output_type": "display_data",
                "data": {
                  "image/png": "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\n",
                  "text/plain": "<Figure size 432x288 with 1 Axes>"
                },
                "metadata": {}
              }
            ],
            "_view_module": "@jupyter-widgets/output",
            "_model_module_version": "1.0.0",
            "_view_count": null,
            "_view_module_version": "1.0.0",
            "layout": "IPY_MODEL_981ff1072b544f68b0f8e98d0b9d37fe",
            "_model_module": "@jupyter-widgets/output"
          }
        },
        "d89ffae543794d7495fce3510208f4ae": {
          "model_module": "@jupyter-widgets/controls",
          "model_name": "SliderStyleModel",
          "model_module_version": "1.5.0",
          "state": {
            "_view_name": "StyleView",
            "handle_color": null,
            "_model_name": "SliderStyleModel",
            "description_width": "",
            "_view_module": "@jupyter-widgets/base",
            "_model_module_version": "1.5.0",
            "_view_count": null,
            "_view_module_version": "1.2.0",
            "_model_module": "@jupyter-widgets/controls"
          }
        },
        "18aab111caeb49b6877a006e2f3598c5": {
          "model_module": "@jupyter-widgets/base",
          "model_name": "LayoutModel",
          "model_module_version": "1.2.0",
          "state": {
            "_view_name": "LayoutView",
            "grid_template_rows": null,
            "right": null,
            "justify_content": null,
            "_view_module": "@jupyter-widgets/base",
            "overflow": null,
            "_model_module_version": "1.2.0",
            "_view_count": null,
            "flex_flow": null,
            "width": null,
            "min_width": null,
            "border": null,
            "align_items": null,
            "bottom": null,
            "_model_module": "@jupyter-widgets/base",
            "top": null,
            "grid_column": null,
            "overflow_y": null,
            "overflow_x": null,
            "grid_auto_flow": null,
            "grid_area": null,
            "grid_template_columns": null,
            "flex": null,
            "_model_name": "LayoutModel",
            "justify_items": null,
            "grid_row": null,
            "max_height": null,
            "align_content": null,
            "visibility": null,
            "align_self": null,
            "height": null,
            "min_height": null,
            "padding": null,
            "grid_auto_rows": null,
            "grid_gap": null,
            "max_width": null,
            "order": null,
            "_view_module_version": "1.2.0",
            "grid_template_areas": null,
            "object_position": null,
            "object_fit": null,
            "grid_auto_columns": null,
            "margin": null,
            "display": null,
            "left": null
          }
        },
        "981ff1072b544f68b0f8e98d0b9d37fe": {
          "model_module": "@jupyter-widgets/base",
          "model_name": "LayoutModel",
          "model_module_version": "1.2.0",
          "state": {
            "_view_name": "LayoutView",
            "grid_template_rows": null,
            "right": null,
            "justify_content": null,
            "_view_module": "@jupyter-widgets/base",
            "overflow": null,
            "_model_module_version": "1.2.0",
            "_view_count": null,
            "flex_flow": null,
            "width": null,
            "min_width": null,
            "border": null,
            "align_items": null,
            "bottom": null,
            "_model_module": "@jupyter-widgets/base",
            "top": null,
            "grid_column": null,
            "overflow_y": null,
            "overflow_x": null,
            "grid_auto_flow": null,
            "grid_area": null,
            "grid_template_columns": null,
            "flex": null,
            "_model_name": "LayoutModel",
            "justify_items": null,
            "grid_row": null,
            "max_height": null,
            "align_content": null,
            "visibility": null,
            "align_self": null,
            "height": null,
            "min_height": null,
            "padding": null,
            "grid_auto_rows": null,
            "grid_gap": null,
            "max_width": null,
            "order": null,
            "_view_module_version": "1.2.0",
            "grid_template_areas": null,
            "object_position": null,
            "object_fit": null,
            "grid_auto_columns": null,
            "margin": null,
            "display": null,
            "left": null
          }
        }
      }
    }
  },
  "cells": [
    {
      "cell_type": "code",
      "metadata": {
        "id": "vd04IhtzEGax"
      },
      "source": [
        "import numpy as np\n",
        "import sys\n",
        "import matplotlib.pyplot as plt \n",
        "from scipy.integrate import odeint\n",
        "from ipywidgets import interact_manual, interact, widgets, FloatSlider\n",
        "\n",
        "def repr(var, time, n):\n",
        "    mRNA = var[:3]\n",
        "    prot = var[3:]\n",
        "    dmRNA0 = - mRNA[0] + alpha/(1 + prot[2]**n) + alpha0\n",
        "    dmRNA1 = - mRNA[1] + alpha/(1 + prot[0]**n) + alpha0\n",
        "    dmRNA2 = - mRNA[2] + alpha/(1 + prot[1]**n) + alpha0\n",
        "    dprot0 = - beta*(prot[0] - mRNA[0])\n",
        "    dprot1 = - beta*(prot[1] - mRNA[1])\n",
        "    dprot2 = - beta*(prot[2] - mRNA[2])\n",
        "    return [dmRNA0, dmRNA1, dmRNA2, dprot0, dprot1, dprot2]\n",
        "  \n",
        "def func(n):\n",
        "    time = np.linspace(0, 100, 5000)\n",
        "    mRNAInit = np.array([10.0, 1.0, 1.0])\n",
        "    mprotInit = np.array([1.0, 1.0, 1.0])\n",
        "    var = np.concatenate((mRNAInit, mprotInit), axis=None)\n",
        "    result = odeint(repr, var, time, args=(n,))\n",
        "    #plt.style.use('classic')\n",
        "    plt.style.use('seaborn-white')\n",
        "    plt.subplots(figsize=(15, 5))\n",
        "    plt.subplot(1, 2, 1)\n",
        "    plt.plot(time, result[:,0], time, result[:,1], time, result[:,2])\n",
        "    plt.xlabel('time')\n",
        "    plt.ylabel('result')\n",
        "    plt.title('mRNA plot')\n",
        "    plt.subplot(1, 2, 2)\n",
        "    plt.plot(time, result[:,3], time, result[:,4], time, result[:,5])\n",
        "    plt.xlabel('time')\n",
        "    plt.ylabel('result')\n",
        "    plt.title('protein plot')\n",
        "    #plt.savefig(\"mrna-prot.png\",dpi=300)\n",
        "    plt.show()\n",
        "\n",
        "    plt.plot(time[0:2000], result[:,0][0:2000], time[0:2000], result[:,3][0:2000])\n",
        "    plt.xlabel('time')\n",
        "    plt.ylabel('result')\n",
        "    plt.title('delay plot')\n",
        "    #plt.savefig(\"delay.png\",dpi=300)\n",
        "\n",
        "    plt.show()"
      ],
      "execution_count": 1,
      "outputs": []
    },
    {
      "cell_type": "code",
      "metadata": {
        "colab": {
          "base_uri": "https://localhost:8080/",
          "height": 651,
          "referenced_widgets": [
            "8f14e1d699e249e0b2659595226d84ee",
            "dbe918569a43456e8a27f52dec8fb291",
            "ffb23564ef584d22b499773ecf0ee016",
            "baaf2f66b70e454482eadcf60d1f67e6",
            "d89ffae543794d7495fce3510208f4ae",
            "18aab111caeb49b6877a006e2f3598c5",
            "981ff1072b544f68b0f8e98d0b9d37fe"
          ]
        },
        "id": "kAeBKGJkKQip",
        "outputId": "1e77b7bc-cab8-46e3-a93c-5f2a5b127a43"
      },
      "source": [
        "#@title Parametri del Modello { run: \"auto\" }\n",
        "alpha =  220 #@param {type:\"number\"}\n",
        "alpha0 = 0.0005 #@param {type:\"number\"}\n",
        "beta =   2#@param {type:\"number\"}\n",
        "n_widget = FloatSlider(min=-3, max=11, step=0.5, value=2)\n",
        "\n",
        "UI = interact(func, n=n_widget)\n"
      ],
      "execution_count": 2,
      "outputs": [
        {
          "output_type": "display_data",
          "data": {
            "application/vnd.jupyter.widget-view+json": {
              "model_id": "8f14e1d699e249e0b2659595226d84ee",
              "version_minor": 0,
              "version_major": 2
            },
            "text/plain": [
              "interactive(children=(FloatSlider(value=2.0, description='n', max=11.0, min=-3.0, step=0.5), Output()), _dom_c…"
            ]
          },
          "metadata": {}
        }
      ]
    }
  ]
}